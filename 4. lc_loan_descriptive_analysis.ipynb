{
  "nbformat": 4,
  "nbformat_minor": 0,
  "metadata": {
    "colab": {
      "provenance": []
    },
    "kernelspec": {
      "name": "python3",
      "display_name": "Python 3"
    },
    "language_info": {
      "name": "python"
    }
  },
  "cells": [
    {
      "cell_type": "code",
      "execution_count": null,
      "metadata": {
        "id": "Wexqi3TCy0GF"
      },
      "outputs": [],
      "source": [
        "import pandas as pd\n",
        "import numpy as np\n",
        "import matplotlib.pyplot as plt\n",
        "import seaborn as sns\n",
        "from scipy.stats import spearmanr"
      ]
    },
    {
      "cell_type": "code",
      "source": [
        "df = pd.read_csv(\"/content/lc_loan_clean_data.csv\")"
      ],
      "metadata": {
        "id": "7GaWLcxjzTWD"
      },
      "execution_count": null,
      "outputs": []
    },
    {
      "cell_type": "code",
      "source": [
        "df['issue_d'] = pd.to_datetime(df['issue_d']) #error in file\n",
        "df.shape #(841943, 24)"
      ],
      "metadata": {
        "id": "3uNtUiMlebGB"
      },
      "execution_count": null,
      "outputs": []
    },
    {
      "cell_type": "code",
      "source": [
        "df.info()"
      ],
      "metadata": {
        "id": "BtQPQbrgtdl9"
      },
      "execution_count": null,
      "outputs": []
    },
    {
      "cell_type": "markdown",
      "source": [
        "# Descriptive Analysis\n",
        "First, we will add two featured columns to enhance the analysis:\n",
        "\n",
        "a) The repayment ratio is defined as the total amount paid back divided by the original loan amount.\n",
        "\n",
        "b) Risk_flag is to flag a loan as high risk if either it has a problematic loan status or a DTI above 30%:"
      ],
      "metadata": {
        "id": "Dm27X-_ZzAC1"
      }
    },
    {
      "cell_type": "code",
      "source": [
        "df['repayment_ratio'] = df['total_pymnt'] / df['funded_amnt']\n",
        "df['repayment_ratio'] = df['repayment_ratio'].replace([np.inf, -np.inf], 0)"
      ],
      "metadata": {
        "id": "sbLupHYry49a"
      },
      "execution_count": null,
      "outputs": []
    },
    {
      "cell_type": "code",
      "source": [
        "df['repayment_ratio'].describe()"
      ],
      "metadata": {
        "id": "SsUVsIM82fYo"
      },
      "execution_count": null,
      "outputs": []
    },
    {
      "cell_type": "code",
      "source": [
        "high_risk_statuses = ['Charged Off', 'Default', 'Late (31-120 days)', 'Late (16-30 days)']\n",
        "threshold = 30\n",
        "df['risk_flag'] = np.where(\n",
        "    df['loan_status'].isin(high_risk_statuses) | (df['dti'] > threshold),\n",
        "    1,\n",
        "    0\n",
        ")"
      ],
      "metadata": {
        "id": "FgtJJh2E0Uyi"
      },
      "execution_count": null,
      "outputs": []
    },
    {
      "cell_type": "code",
      "source": [
        "df['risk_flag'].value_counts()"
      ],
      "metadata": {
        "id": "SZqVxdYM2GXm"
      },
      "execution_count": null,
      "outputs": []
    },
    {
      "cell_type": "markdown",
      "source": [
        "How is it different the repayment_ratio depending on the risk flag?"
      ],
      "metadata": {
        "id": "DznX6k0g4tno"
      }
    },
    {
      "cell_type": "code",
      "source": [
        "risk_repayment_summary = df.groupby('risk_flag')['repayment_ratio'].agg(['min', 'max', 'mean', 'std'])\n",
        "print(risk_repayment_summary)"
      ],
      "metadata": {
        "id": "Go7gPJPy2V7C"
      },
      "execution_count": null,
      "outputs": []
    },
    {
      "cell_type": "markdown",
      "source": [
        "# Risk segmentation table"
      ],
      "metadata": {
        "id": "kHIlolEsZpln"
      }
    },
    {
      "cell_type": "code",
      "source": [
        "status_by_risk = df.groupby('risk_flag')['loan_status'].value_counts(normalize=True).unstack(fill_value=0)\n",
        "status_by_risk"
      ],
      "metadata": {
        "id": "v1K1QUh74J93"
      },
      "execution_count": null,
      "outputs": []
    },
    {
      "cell_type": "markdown",
      "source": [
        "Careful with the interpretation, remember that we defined high risk as:\n",
        "high_risk_statuses = ['Charged Off', 'Default', 'Late (31-120 days)', 'Late (16-30 days)'] or if the borrower's debt-to-income ratio (DTI) is above 30%.\n",
        "\n",
        "Then, loans with risk_flag=0 are guaranteed not to have any of these negative statuses, and that is why there is a 0% for \"Charged Off\" and “Default” in that group.\n",
        "However, this table gives us the distribution of the no-null values and how the dti ratio plays a role in risk segmentation."
      ],
      "metadata": {
        "id": "Bd_W9gs1dcKA"
      }
    },
    {
      "cell_type": "markdown",
      "source": [
        "# Loan status vs repayment ratio"
      ],
      "metadata": {
        "id": "56pkHQHqlyrI"
      }
    },
    {
      "cell_type": "code",
      "source": [
        "repayment_summary = df.groupby('loan_status')['repayment_ratio'].agg(['count', 'mean'])\n",
        "repayment_summary = repayment_summary.sort_values(by='count', ascending=False)\n",
        "print (repayment_summary)"
      ],
      "metadata": {
        "id": "iSgEwb13dWMD"
      },
      "execution_count": null,
      "outputs": []
    },
    {
      "cell_type": "markdown",
      "source": [
        "It is important to note that loans classified as \"Current\" or \"Issued\" have lower repayment ratios because their repayment cycle is still in progress. As a result, calculating the average of repayment ratio across the entire dataset can be misleading. These incomplete loans skew the average downward and do not accurately reflect the complete repayment behavior of loans that have finished their term."
      ],
      "metadata": {
        "id": "NnJFTMpsjUm3"
      }
    },
    {
      "cell_type": "markdown",
      "source": [
        "# Distribution of grade"
      ],
      "metadata": {
        "id": "hebcyzf-uIuY"
      }
    },
    {
      "cell_type": "code",
      "source": [
        "grade_summary = df.groupby('grade')['int_rate'].agg(['min', 'max', 'mean','count']).reset_index()\n",
        "\n",
        "print(grade_summary)"
      ],
      "metadata": {
        "id": "VTRbQePgARYJ"
      },
      "execution_count": null,
      "outputs": []
    },
    {
      "cell_type": "markdown",
      "source": [
        "# time series"
      ],
      "metadata": {
        "id": "2uADT3e1x-FD"
      }
    },
    {
      "cell_type": "code",
      "source": [
        "df2008 = df[(df[\"issue_d\"] >= \"2008-01-01\") & (df[\"issue_d\"] < \"2009-01-01\")]\n",
        "df2008['funded_amnt'].sum()"
      ],
      "metadata": {
        "id": "iAnEz3SDyAdB"
      },
      "execution_count": null,
      "outputs": []
    },
    {
      "cell_type": "code",
      "source": [
        "df2009 = df[(df[\"issue_d\"] >= \"2009-01-01\") & (df[\"issue_d\"] < \"2010-01-01\")]\n",
        "df2009['funded_amnt'].sum()"
      ],
      "metadata": {
        "id": "MKAHLsK90dTu"
      },
      "execution_count": null,
      "outputs": []
    },
    {
      "cell_type": "code",
      "source": [
        "51722950/19917425 # verifying the following table (2.59 - 1)*100 is the percentage increase"
      ],
      "metadata": {
        "id": "fmBK83uv06n6"
      },
      "execution_count": null,
      "outputs": []
    },
    {
      "cell_type": "code",
      "source": [
        "# Extract the year from the 'issue_d' column\n",
        "df['year'] = df['issue_d'].dt.year\n",
        "\n",
        "# Group by year and sum the 'funded_amnt'\n",
        "yearly_funded_amnt = df.groupby('year')['funded_amnt'].sum()\n",
        "\n",
        "# Convert the result to a DataFrame:\n",
        "yearly_funded_amnt_df = yearly_funded_amnt.reset_index()\n",
        "yearly_funded_amnt_df.columns = ['Year', 'Total Funded Amount']\n",
        "\n",
        "# Calculate YoY increase\n",
        "yearly_funded_amnt_df['YoY Increase'] = yearly_funded_amnt_df['Total Funded Amount'].pct_change() * 100\n",
        "\n",
        "# Replace NaN (for the first year)\n",
        "yearly_funded_amnt_df['YoY Increase'] = yearly_funded_amnt_df['YoY Increase'].fillna(0)\n",
        "\n",
        "# Convert number type\n",
        "yearly_funded_amnt_df['Total Funded Amount'] = yearly_funded_amnt_df['Total Funded Amount'].astype(int)\n",
        "yearly_funded_amnt_df['YoY Increase'] = yearly_funded_amnt_df['YoY Increase'].round(2)\n",
        "\n",
        "# Print the DataFrame\n",
        "print(yearly_funded_amnt_df)"
      ],
      "metadata": {
        "id": "Ryj7JXti44LV"
      },
      "execution_count": null,
      "outputs": []
    },
    {
      "cell_type": "markdown",
      "source": [
        "# Return on Investment"
      ],
      "metadata": {
        "id": "gXsAqvb35Tse"
      }
    },
    {
      "cell_type": "code",
      "source": [
        "roi_selected = df[[\"funded_amnt\", \"term\", \"installment\", \"loan_status\", \"total_pymnt\", \"total_rec_int\", \"total_rec_prncp\",\"repayment_ratio\",\"risk_flag\"]]"
      ],
      "metadata": {
        "id": "ZQVTTsj65XGt"
      },
      "execution_count": null,
      "outputs": []
    },
    {
      "cell_type": "code",
      "source": [
        "roi_selected.info()"
      ],
      "metadata": {
        "id": "Rmq9SQcm68Aj"
      },
      "execution_count": null,
      "outputs": []
    },
    {
      "cell_type": "code",
      "source": [
        "roi_selected['verify'] = roi_selected['total_pymnt'] - roi_selected['total_rec_int'] - roi_selected['total_rec_prncp']"
      ],
      "metadata": {
        "id": "fWI8wBv77l8C"
      },
      "execution_count": null,
      "outputs": []
    },
    {
      "cell_type": "code",
      "source": [
        "roi_selected_sorted = roi_selected.sort_values(by='verify', ascending=False)\n",
        "roi_selected_sorted\n"
      ],
      "metadata": {
        "id": "bvhkD2MZ8KKD"
      },
      "execution_count": null,
      "outputs": []
    },
    {
      "cell_type": "markdown",
      "source": [
        "Conclusion: In many cases, the total payment does not match the sum of the recovered principal and interest. This discrepancy may be due to clients receiving alternative settlement offers or adjustments from the bank at the time of loan closure.\n",
        "For the ROI analysis, we will assume the total payment column is correct."
      ],
      "metadata": {
        "id": "Ymr40R0-9qsp"
      }
    },
    {
      "cell_type": "code",
      "source": [
        "completed_loans = roi_selected[\n",
        "    roi_selected['loan_status'].isin([\n",
        "        'Fully Paid',\n",
        "        'Charged Off',\n",
        "        'Default',\n",
        "        'Does not meet the credit policy. Status:Fully Paid',\n",
        "        'Does not meet the credit policy. Status:Charged Off'\n",
        "    ])\n",
        "]"
      ],
      "metadata": {
        "id": "GGWReQHG8KDv"
      },
      "execution_count": null,
      "outputs": []
    },
    {
      "cell_type": "code",
      "source": [
        "completed_loans.info()"
      ],
      "metadata": {
        "id": "QablLvmC8J97"
      },
      "execution_count": null,
      "outputs": []
    },
    {
      "cell_type": "code",
      "source": [
        "# Filter data by term\n",
        "term_36 = completed_loans[completed_loans['term'] == 36]\n",
        "term_60 = completed_loans[completed_loans['term'] == 60]"
      ],
      "metadata": {
        "id": "VXRIydYkBWg4"
      },
      "execution_count": null,
      "outputs": []
    },
    {
      "cell_type": "code",
      "source": [
        "pd.options.display.float_format = '{:,.2f}'.format\n",
        "table_36 = term_36.groupby('loan_status').agg({\n",
        "    'funded_amnt': 'sum',\n",
        "    'total_pymnt': 'sum',\n",
        "    'repayment_ratio': 'mean',\n",
        "    'installment': 'count'\n",
        "}).reset_index()\n",
        "\n",
        "table_36.columns = ['Loan Status', 'Total Funded Amount', 'Total Payment Amount', 'Average Repayment Ratio', 'Loan Count']\n",
        "\n",
        "table_36"
      ],
      "metadata": {
        "id": "lA_hZ6enBWZc"
      },
      "execution_count": null,
      "outputs": []
    },
    {
      "cell_type": "code",
      "source": [
        "pd.options.display.float_format = '{:,.2f}'.format\n",
        "table_60 = term_60.groupby('loan_status').agg({\n",
        "    'funded_amnt': 'sum',\n",
        "    'total_pymnt': 'sum',\n",
        "    'repayment_ratio': 'mean',\n",
        "    'installment': 'count'\n",
        "}).reset_index()\n",
        "\n",
        "table_60.columns = ['Loan Status', 'Total Funded Amount', 'Total Payment Amount', 'Average Repayment Ratio', 'Loan Count']\n",
        "\n",
        "table_60"
      ],
      "metadata": {
        "id": "bIQt0pluKogR"
      },
      "execution_count": null,
      "outputs": []
    },
    {
      "cell_type": "code",
      "source": [
        "roi_36 = 100*(table_36['Total Payment Amount'].sum() / table_36['Total Funded Amount'].sum())-100\n",
        "print(f\"The Return on Investment for 36-month closed loans is {roi_36:.2f}%\")"
      ],
      "metadata": {
        "id": "IQiPgZwVKobY"
      },
      "execution_count": null,
      "outputs": []
    },
    {
      "cell_type": "code",
      "source": [
        "roi_60 = 100*(table_60['Total Payment Amount'].sum() / table_60['Total Funded Amount'].sum())-100\n",
        "print(f\"The Return on Investment for 60-month closed loans is {roi_60:.2f}%\")"
      ],
      "metadata": {
        "id": "a1401TknKoTb"
      },
      "execution_count": null,
      "outputs": []
    },
    {
      "cell_type": "markdown",
      "source": [
        "# Interesting Visuals"
      ],
      "metadata": {
        "id": "jz-pmxlYEEBW"
      }
    },
    {
      "cell_type": "code",
      "source": [
        "risk_counts = pd.Series({0: 751376, 1: 135967})\n",
        "plt.figure(figsize=(8, 6))\n",
        "risk_counts.plot(kind='bar', color=['skyblue', 'salmon'])\n",
        "plt.title(\"Number of Clients by Risk Flag\")\n",
        "plt.xlabel(\"Risk Flag (0 = Lower, 1 = Higher)\")\n",
        "plt.ylabel(\"Number of Clients\")\n",
        "plt.xticks(rotation=0)\n",
        "plt.show()"
      ],
      "metadata": {
        "id": "W7T61Fn0Ax8w"
      },
      "execution_count": null,
      "outputs": []
    },
    {
      "cell_type": "code",
      "source": [
        "mean_repayment = pd.Series({0: 0.562273, 1: 0.406078})\n",
        "plt.figure(figsize=(8, 6))\n",
        "mean_repayment.plot(kind='bar', color=['green', 'orange'])\n",
        "plt.title(\"Mean Repayment Ratio by Risk Flag\")\n",
        "plt.xlabel(\"Risk Flag (0 = Lower, 1 = Higher)\")\n",
        "plt.ylabel(\"Mean Repayment Ratio\")\n",
        "plt.xticks(rotation=0)\n",
        "plt.show()"
      ],
      "metadata": {
        "id": "ficFeheAESVp"
      },
      "execution_count": null,
      "outputs": []
    },
    {
      "cell_type": "code",
      "source": [
        "data = {'Charged Off': [0.000000, 0.332779],\n",
        "        'Current': [0.715008, 0.474483],\n",
        "        'Default': [0.000000, 0.008965],\n",
        "        'Does not meet the credit policy. Status:Charged Off': [0.001013, 0.000000],\n",
        "        'Does not meet the credit policy. Status:Fully Paid': [0.00264, 0.000000],\n",
        "        'Fully Paid': [0.264291, 0.067193],\n",
        "        'In Grace Period': [0.007316, 0.005553],\n",
        "        'Issued': [0.009731, 0.008443],\n",
        "        'Late (16-30 days)': [0.000000, 0.017335],\n",
        "        'Late (31-120 days)': [0.000000, 0.085249]}\n",
        "df1 = pd.DataFrame(data, index=[0, 1])\n",
        "\n",
        "\n",
        "df1.plot(kind='bar', stacked=True, figsize=(12, 6))\n",
        "plt.title('Loan Status Distribution by Risk Flag')\n",
        "plt.xlabel('Risk Flag')\n",
        "plt.ylabel('Percentage')\n",
        "plt.xticks(rotation=0)\n",
        "plt.legend(title='Loan Status', bbox_to_anchor=(1.05, 1), loc='upper left')\n",
        "plt.tight_layout()\n",
        "plt.show()"
      ],
      "metadata": {
        "id": "tB85-dKWGf8D"
      },
      "execution_count": null,
      "outputs": []
    },
    {
      "cell_type": "code",
      "source": [
        "grade_data = {\n",
        "    'grade': ['A', 'B', 'C', 'D', 'E', 'F', 'G'],\n",
        "    'min': [5.32, 6.00, 6.00, 6.00, 6.00, 6.00, 16.59],\n",
        "    'max': [9.63, 14.09, 17.27, 20.31, 23.40, 26.06, 28.99],\n",
        "    'mean': [7.243304, 10.82967, 13.980123, 17.17584, 19.897326, 23.582787, 25.626706],\n",
        "    'count': [148187, 254525, 245854, 139539, 70703, 23046, 5489]\n",
        "}\n",
        "grade_df = pd.DataFrame(grade_data)\n",
        "plt.figure(figsize=(8, 6))\n",
        "sns.barplot(x='grade', y='count', data=grade_df, palette=\"viridis\", hue='grade', legend=False)\n",
        "plt.title(\"Number of Loans by Grade\")\n",
        "plt.xlabel(\"Grade\")\n",
        "plt.ylabel(\"Loan Count\")\n",
        "plt.show()"
      ],
      "metadata": {
        "id": "l8lKI_bnuxr-"
      },
      "execution_count": null,
      "outputs": []
    },
    {
      "cell_type": "code",
      "source": [
        "df['issue_d'] = pd.to_datetime(df['issue_d'])\n",
        "plt.figure(figsize=(12, 6))\n",
        "df['issue_month'] = df['issue_d'].dt.to_period('M')\n",
        "loans_by_month = df.groupby('issue_month').size()\n",
        "loans_by_month.plot(kind='line', marker='o')\n",
        "plt.title(\"Loan Issuance Trend Over Time\")\n",
        "plt.xlabel(\"Month\")\n",
        "plt.ylabel(\"Number of Loans Issued\")\n",
        "plt.xticks(rotation=45)\n",
        "plt.tight_layout()\n",
        "plt.show()"
      ],
      "metadata": {
        "id": "74f1Nv1rLF4z"
      },
      "execution_count": null,
      "outputs": []
    },
    {
      "cell_type": "code",
      "source": [
        "plt.figure(figsize=(12, 6))\n",
        "sns.heatmap(status_by_risk, annot=True, cmap=\"YlGnBu\", fmt=\".3f\")\n",
        "plt.title(\"Heatmap of Loan Status Proportions by Risk Flag\")\n",
        "plt.xlabel(\"Loan Status\")\n",
        "plt.ylabel(\"Risk Flag\")\n",
        "plt.show()"
      ],
      "metadata": {
        "id": "UBxGH_VYE1T6"
      },
      "execution_count": null,
      "outputs": []
    },
    {
      "cell_type": "code",
      "source": [
        "plt.figure(figsize=(10, 6))\n",
        "sns.countplot(x='term', hue='loan_status', data=df, palette=\"Set1\")\n",
        "plt.title(\"Loan Term vs. Loan Status\")\n",
        "plt.xlabel(\"Term (in months)\")\n",
        "plt.ylabel(\"Count\")\n",
        "plt.legend(title=\"Loan Status\", bbox_to_anchor=(1.05, 1), loc='upper left')\n",
        "plt.tight_layout()\n",
        "plt.show()"
      ],
      "metadata": {
        "id": "PZn5m6efHhTb"
      },
      "execution_count": null,
      "outputs": []
    },
    {
      "cell_type": "code",
      "source": [
        "plt.figure(figsize=(8, 6))\n",
        "sns.histplot(df['int_rate'], bins=30, kde=True, color='teal')\n",
        "plt.title(\"Distribution of Interest Rates\")\n",
        "plt.xlabel(\"Interest Rate\")\n",
        "plt.ylabel(\"Frequency\")\n",
        "plt.show()"
      ],
      "metadata": {
        "id": "AVh0Ii46GZQz"
      },
      "execution_count": null,
      "outputs": []
    },
    {
      "cell_type": "markdown",
      "source": [
        "Kernel Density Estimate (KDE):\n",
        "\n",
        "The KDE line is a smooth curve that estimates the probability density function of the interest rate data, it provides a continuous estimate of how the data is distributed across the range of interest rates.\n",
        "\n",
        "Conclusion: there are more loans with low interest rates."
      ],
      "metadata": {
        "id": "cZYRXDq9LzCT"
      }
    },
    {
      "cell_type": "code",
      "source": [
        "plt.figure(figsize=(10,6))\n",
        "sns.histplot(df['loan_amnt'], bins=50, kde=True, color='blue')\n",
        "plt.title(\"Distribution of Loan Amount\")\n",
        "plt.xlabel(\"Loan Amount\")\n",
        "plt.ylabel(\"Frequency\")\n",
        "plt.show()"
      ],
      "metadata": {
        "id": "6ux6SorPL3jm"
      },
      "execution_count": null,
      "outputs": []
    },
    {
      "cell_type": "markdown",
      "source": [
        "The part on the left represents the \"Issued\" and \"Current\" loans, while the one on the right represents the \"Fully Paid\"."
      ],
      "metadata": {
        "id": "VgtvuXverQNh"
      }
    },
    {
      "cell_type": "code",
      "source": [
        "plt.figure(figsize=(10, 6))\n",
        "upper_limit = df['annual_inc'].quantile(0.99)\n",
        "df_filtered = df[df['annual_inc'] <= upper_limit]\n",
        "\n",
        "sns.histplot(df_filtered['annual_inc'], bins=40, kde=True, color='blue')\n",
        "plt.title(\"Distribution of Annual Income\")\n",
        "plt.xlabel(\"Annual Income\")\n",
        "plt.ylabel(\"Frequency\")\n",
        "plt.tight_layout()\n",
        "plt.show()"
      ],
      "metadata": {
        "id": "evH3XSb7N2kJ"
      },
      "execution_count": null,
      "outputs": []
    },
    {
      "cell_type": "code",
      "source": [
        "plt.figure(figsize=(12, 6))\n",
        "sns.countplot(y='purpose', data=df, order=df['purpose'].value_counts().index, palette='viridis', hue='purpose', legend=False)\n",
        "plt.title(\"Distribution of Loan Purpose\")\n",
        "plt.xlabel(\"Count\")\n",
        "plt.ylabel(\"Loan Purpose\")\n",
        "plt.tight_layout()\n",
        "plt.show()"
      ],
      "metadata": {
        "id": "LgPb5Saor4zl"
      },
      "execution_count": null,
      "outputs": []
    },
    {
      "cell_type": "code",
      "source": [
        "plt.figure(figsize=(12,6))\n",
        "sns.countplot(x='addr_state', data=df,\n",
        "              order=df['addr_state'].value_counts().index,\n",
        "              hue='addr_state',\n",
        "              palette='viridis',\n",
        "              legend=False)\n",
        "plt.title(\"Loan Issuance by State\")\n",
        "plt.xlabel(\"State\")\n",
        "plt.ylabel(\"Number of Loans\")\n",
        "plt.xticks(rotation=90)\n",
        "plt.tight_layout()\n",
        "plt.show()"
      ],
      "metadata": {
        "id": "QGfrCuUIRDDH"
      },
      "execution_count": null,
      "outputs": []
    },
    {
      "cell_type": "code",
      "source": [
        "df.to_csv(\"lc_loan_to_diagnostic.csv\", index= False)"
      ],
      "metadata": {
        "id": "HG_spNF_SIcw"
      },
      "execution_count": null,
      "outputs": []
    },
    {
      "cell_type": "markdown",
      "source": [
        "# Data for Tableau"
      ],
      "metadata": {
        "id": "AjAP_CC-2TKz"
      }
    },
    {
      "cell_type": "code",
      "source": [
        "numeric_cols = ['loan_amnt', 'funded_amnt', 'int_rate', 'installment',\n",
        "                'annual_inc', 'dti', 'total_pymnt', 'total_rec_int',\n",
        "                'total_rec_prncp', 'delinq_2yrs', 'open_acc', 'total_acc',\n",
        "                'revol_util', 'emp_length_int']\n",
        "corr_matrix = df[numeric_cols].corr()\n"
      ],
      "metadata": {
        "id": "XgPWZPibfBR0"
      },
      "execution_count": null,
      "outputs": []
    },
    {
      "cell_type": "code",
      "source": [
        "# Reset index to turn row labels into a column\n",
        "corr_df = corr_matrix.reset_index().rename(columns={'index': 'Variable1'})\n",
        "# Melt the data frame to convert from wide to long format\n",
        "corr_long = pd.melt(corr_df, id_vars='Variable1', var_name='Variable2', value_name='Correlation')\n",
        "corr_long.to_csv(\"corr_long.csv\", index=False)"
      ],
      "metadata": {
        "id": "8uhQIvejfHla"
      },
      "execution_count": null,
      "outputs": []
    },
    {
      "cell_type": "code",
      "source": [
        "data = {\n",
        "    'Charged Off': [0.000000, 0.332779],\n",
        "    'Current': [0.715008, 0.474483],\n",
        "    'Default': [0.000000, 0.008965],\n",
        "    'Does not meet the credit policy. Status:Charged Off': [0.001013, 0.000000],\n",
        "    'Does not meet the credit policy. Status:Fully Paid': [0.00264, 0.000000],\n",
        "    'Fully Paid': [0.264291, 0.067193],\n",
        "    'In Grace Period': [0.007316, 0.005553],\n",
        "    'Issued': [0.009731, 0.008443],\n",
        "    'Late (16-30 days)': [0.000000, 0.017335],\n",
        "    'Late (31-120 days)': [0.000000, 0.085249]\n",
        "}\n",
        "df1 = pd.DataFrame(data, index=[0, 1]).reset_index().rename(columns={'index': 'risk_flag'})\n",
        "# Pivot the dataframe from wide to long format using melt\n",
        "df1_long = pd.melt(df1, id_vars='risk_flag', var_name='Loan_Status', value_name='Percentage')\n",
        "df1_long.to_csv(\"loan_status_distribution.csv\", index=False)\n"
      ],
      "metadata": {
        "id": "YtZ-Dhr5gWsS"
      },
      "execution_count": null,
      "outputs": []
    }
  ]
}